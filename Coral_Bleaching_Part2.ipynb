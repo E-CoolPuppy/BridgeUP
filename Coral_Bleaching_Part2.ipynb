{
 "cells": [
  {
   "cell_type": "code",
   "execution_count": 2,
   "metadata": {
    "collapsed": true,
    "deletable": true,
    "editable": true
   },
   "outputs": [],
   "source": [
    "#First, we imported libraries\n",
    "import pandas as pd\n",
    "import matplotlib.pyplot as plt\n",
    "import numpy as np"
   ]
  },
  {
   "cell_type": "code",
   "execution_count": 3,
   "metadata": {
    "collapsed": false,
    "deletable": true,
    "editable": true
   },
   "outputs": [
    {
     "ename": "NameError",
     "evalue": "name 'groupby_month2015' is not defined",
     "output_type": "error",
     "traceback": [
      "\u001b[0;31m---------------------------------------------------------------------------\u001b[0m",
      "\u001b[0;31mNameError\u001b[0m                                 Traceback (most recent call last)",
      "\u001b[0;32m<ipython-input-3-6efaddb86578>\u001b[0m in \u001b[0;36m<module>\u001b[0;34m()\u001b[0m\n\u001b[1;32m     10\u001b[0m \u001b[0mgroupby_month2013\u001b[0m \u001b[0;34m=\u001b[0m \u001b[0myear2013\u001b[0m\u001b[0;34m[\u001b[0m\u001b[0;34m\"Sea_Surface_Temperature\"\u001b[0m\u001b[0;34m]\u001b[0m\u001b[0;34m.\u001b[0m\u001b[0mgroupby\u001b[0m\u001b[0;34m(\u001b[0m\u001b[0myear2013\u001b[0m\u001b[0;34m[\u001b[0m\u001b[0;34m\"Month\"\u001b[0m\u001b[0;34m]\u001b[0m\u001b[0;34m)\u001b[0m\u001b[0;34m.\u001b[0m\u001b[0mmean\u001b[0m\u001b[0;34m(\u001b[0m\u001b[0;34m)\u001b[0m\u001b[0;34m\u001b[0m\u001b[0m\n\u001b[1;32m     11\u001b[0m \u001b[0mgroupby_month2014\u001b[0m \u001b[0;34m=\u001b[0m \u001b[0myear2014\u001b[0m\u001b[0;34m[\u001b[0m\u001b[0;34m\"Sea_Surface_Temperature\"\u001b[0m\u001b[0;34m]\u001b[0m\u001b[0;34m.\u001b[0m\u001b[0mgroupby\u001b[0m\u001b[0;34m(\u001b[0m\u001b[0myear2014\u001b[0m\u001b[0;34m[\u001b[0m\u001b[0;34m\"Month\"\u001b[0m\u001b[0;34m]\u001b[0m\u001b[0;34m)\u001b[0m\u001b[0;34m.\u001b[0m\u001b[0mmean\u001b[0m\u001b[0;34m(\u001b[0m\u001b[0;34m)\u001b[0m\u001b[0;34m\u001b[0m\u001b[0m\n\u001b[0;32m---> 12\u001b[0;31m \u001b[0mgroupby_month\u001b[0m\u001b[0;34m=\u001b[0m\u001b[0mpd\u001b[0m\u001b[0;34m.\u001b[0m\u001b[0mconcat\u001b[0m\u001b[0;34m(\u001b[0m\u001b[0;34m[\u001b[0m\u001b[0mgroupby_month2013\u001b[0m\u001b[0;34m,\u001b[0m\u001b[0mgroupby_month2014\u001b[0m\u001b[0;34m,\u001b[0m\u001b[0mgroupby_month2015\u001b[0m\u001b[0;34m,\u001b[0m\u001b[0mgroupby_month2016\u001b[0m\u001b[0;34m,\u001b[0m\u001b[0mgroupby_month2017\u001b[0m\u001b[0;34m,\u001b[0m\u001b[0mgroupby_month2018\u001b[0m\u001b[0;34m]\u001b[0m\u001b[0;34m)\u001b[0m\u001b[0;34m\u001b[0m\u001b[0m\n\u001b[0m\u001b[1;32m     13\u001b[0m \u001b[0mgroupby_month\u001b[0m\u001b[0;34m.\u001b[0m\u001b[0mto_csv\u001b[0m\u001b[0;34m(\u001b[0m\u001b[0;34m\"Fiji_Bleaching_Monthmean.csv\"\u001b[0m\u001b[0;34m)\u001b[0m\u001b[0;34m\u001b[0m\u001b[0m\n",
      "\u001b[0;31mNameError\u001b[0m: name 'groupby_month2015' is not defined"
     ]
    }
   ],
   "source": [
    "#Betsy's Code\n",
    "\n",
    "import pandas as pd\n",
    "#read csv file and create pandas data frame\n",
    "df = pd.read_csv(\"Fiji_Bleaching.csv\")\n",
    "#select rows for a given year\n",
    "year2013=df.loc[df['Year']==2013]\n",
    "year2014=df.loc[df['Year']==2014]\n",
    "#group data for a given year by month and calculate the mean temperature for the month\n",
    "groupby_month2013 = year2013[\"Sea_Surface_Temperature\"].groupby(year2013[\"Month\"]).mean()\n",
    "groupby_month2014 = year2014[\"Sea_Surface_Temperature\"].groupby(year2014[\"Month\"]).mean()\n",
    "groupby_month=pd.concat([groupby_month2013,groupby_month2014,groupby_month2015,groupby_month2016,groupby_month2017,groupby_month2018])\n",
    "groupby_month.to_csv(\"Fiji_Bleaching_Monthmean.csv\")\n"
   ]
  },
  {
   "cell_type": "code",
   "execution_count": null,
   "metadata": {
    "collapsed": true,
    "deletable": true,
    "editable": true
   },
   "outputs": [],
   "source": [
    "#Read the CSV file and made dataframes for all six places\n",
    "df_fiji =pd.read_csv(\"Fiji_Bleaching.csv\")\n",
    "df_flor =pd.read_csv(\"Florida_Keys_Bleaching.csv\")\n",
    "df_island =pd.read_csv(\"Galapagos_Islands_Bleaching.csv\")\n",
    "df_hawa =pd.read_csv(\"Hawaii_Bleaching.csv\")\n",
    "df_barrier =pd.read_csv(\"Northern_Great_Barrier_Reef_Bleaching.csv\")\n",
    "df_palau =pd.read_csv(\"Palau_Bleaching.csv\")"
   ]
  },
  {
   "cell_type": "code",
   "execution_count": null,
   "metadata": {
    "collapsed": true,
    "deletable": true,
    "editable": true
   },
   "outputs": [],
   "source": [
    "#Fiji's Years\n",
    "#Don't need cuz i have function\n",
    "fiji_2013=df_fiji.loc[df_fiji[\"Year\"]==2013]\n",
    "fiji_2014=df_fiji.loc[df_fiji[\"Year\"]==2014]\n",
    "fiji_2015=df_fiji.loc[df_fiji[\"Year\"]==2015]\n",
    "fiji_2016=df_fiji.loc[df_fiji[\"Year\"]==2016]\n",
    "fiji_2017=df_fiji.loc[df_fiji[\"Year\"]==2017]\n",
    "fiji_2018=df_fiji.loc[df_fiji[\"Year\"]==2018]"
   ]
  },
  {
   "cell_type": "code",
   "execution_count": null,
   "metadata": {
    "collapsed": false,
    "deletable": true,
    "editable": true
   },
   "outputs": [],
   "source": [
    "#Created a function to \n",
    "def monthFunc (file,place):\n",
    "    df=pd.read_csv(file)\n",
    "    df_2013=df.loc[df[\"Year\"]==2013]\n",
    "    df_2014=df.loc[df[\"Year\"]==2014]\n",
    "    df_2015=df.loc[df[\"Year\"]==2015]\n",
    "    df_2016=df.loc[df[\"Year\"]==2016]\n",
    "    df_2017=df.loc[df[\"Year\"]==2017]\n",
    "    df_2018=df.loc[df[\"Year\"]==2018]\n",
    "    \n",
    "    group_mon2013= df_2013[\"Sea_Surface_Temperature\"].groupby(df_2013[\"Month\"]).mean()\n",
    "    group_mon2014= df_2014[\"Sea_Surface_Temperature\"].groupby(df_2014[\"Month\"]).mean()\n",
    "    group_mon2015= df_2015[\"Sea_Surface_Temperature\"].groupby(df_2015[\"Month\"]).mean()\n",
    "    group_mon2016= df_2016[\"Sea_Surface_Temperature\"].groupby(df_2016[\"Month\"]).mean()\n",
    "    group_mon2017= df_2017[\"Sea_Surface_Temperature\"].groupby(df_2017[\"Month\"]).mean()\n",
    "    group_mon2018= df_2018[\"Sea_Surface_Temperature\"].groupby(df_2018[\"Month\"]).mean()\n",
    "    \n",
    "    all_months=pd.concat([group_mon2013,group_mon2014,group_mon2015,group_mon2016,group_mon2017,group_mon2018])\n",
    "    all_months.to_csv(place + \"_Monthly_Mean.csv\")\n",
    "    df2=pd.read_csv(place + \"_Monthly_Mean.csv\")\n",
    "    return df2"
   ]
  },
  {
   "cell_type": "code",
   "execution_count": null,
   "metadata": {
    "collapsed": false,
    "deletable": true,
    "editable": true
   },
   "outputs": [],
   "source": [
    "fiji_mon=monthFunc(\"Fiji_Bleaching.csv\",\"Fiji\")\n",
    "flor_mon=monthFunc(\"Florida_Keys_Bleaching.csv\",\"Florida\")\n",
    "island_mon=monthFunc(\"Galapagos_Islands_Bleaching.csv\",\"Galapagos_Islands\")\n",
    "haw_mon=monthFunc(\"Hawaii_Bleaching.csv\",\"Hawaii\")\n",
    "north_mon=monthFunc(\"Northern_Great_Barrier_Reef_Bleaching.csv\",\"Northern_Barrier\")\n",
    "palau_mon=monthFunc(\"Palau_Bleaching.csv\",\"Palau\")"
   ]
  },
  {
   "cell_type": "code",
   "execution_count": 5,
   "metadata": {
    "collapsed": false,
    "deletable": true,
    "editable": true
   },
   "outputs": [
    {
     "data": {
      "text/html": [
       "<div>\n",
       "<style>\n",
       "    .dataframe thead tr:only-child th {\n",
       "        text-align: right;\n",
       "    }\n",
       "\n",
       "    .dataframe thead th {\n",
       "        text-align: left;\n",
       "    }\n",
       "\n",
       "    .dataframe tbody tr th {\n",
       "        vertical-align: top;\n",
       "    }\n",
       "</style>\n",
       "<table border=\"1\" class=\"dataframe\">\n",
       "  <thead>\n",
       "    <tr style=\"text-align: right;\">\n",
       "      <th></th>\n",
       "      <th>Month</th>\n",
       "      <th>Temp</th>\n",
       "    </tr>\n",
       "  </thead>\n",
       "  <tbody>\n",
       "    <tr>\n",
       "      <th>0</th>\n",
       "      <td>3</td>\n",
       "      <td>24.208095</td>\n",
       "    </tr>\n",
       "    <tr>\n",
       "      <th>1</th>\n",
       "      <td>4</td>\n",
       "      <td>24.713923</td>\n",
       "    </tr>\n",
       "    <tr>\n",
       "      <th>2</th>\n",
       "      <td>5</td>\n",
       "      <td>25.955723</td>\n",
       "    </tr>\n",
       "    <tr>\n",
       "      <th>3</th>\n",
       "      <td>6</td>\n",
       "      <td>26.071530</td>\n",
       "    </tr>\n",
       "    <tr>\n",
       "      <th>4</th>\n",
       "      <td>7</td>\n",
       "      <td>26.565826</td>\n",
       "    </tr>\n",
       "  </tbody>\n",
       "</table>\n",
       "</div>"
      ],
      "text/plain": [
       "   Month       Temp\n",
       "0      3  24.208095\n",
       "1      4  24.713923\n",
       "2      5  25.955723\n",
       "3      6  26.071530\n",
       "4      7  26.565826"
      ]
     },
     "execution_count": 5,
     "metadata": {},
     "output_type": "execute_result"
    }
   ],
   "source": [
    "#Read the file with Hawaii's monthly average SST\n",
    "haw2=pd.read_csv(\"Hawaii_Monthly_Mean.csv\")\n",
    "\n",
    "haw2.head()"
   ]
  },
  {
   "cell_type": "code",
   "execution_count": 7,
   "metadata": {
    "collapsed": false,
    "deletable": true,
    "editable": true
   },
   "outputs": [
    {
     "data": {
      "text/plain": [
       "63"
      ]
     },
     "execution_count": 7,
     "metadata": {},
     "output_type": "execute_result"
    }
   ],
   "source": [
    "len(month)"
   ]
  },
  {
   "cell_type": "code",
   "execution_count": 6,
   "metadata": {
    "collapsed": false,
    "deletable": true,
    "editable": true
   },
   "outputs": [],
   "source": [
    "month=haw2[\"Month\"]\n",
    "temp=haw2[\"Temp\"]"
   ]
  },
  {
   "cell_type": "code",
   "execution_count": 8,
   "metadata": {
    "collapsed": false,
    "deletable": true,
    "editable": true,
    "scrolled": true
   },
   "outputs": [
    {
     "name": "stdout",
     "output_type": "stream",
     "text": [
      "[ 0  1  2  3  4  5  6  7  8  9 10 11 12 13 14 15 16 17 18 19 20 21 22 23 24\n",
      " 25 26 27 28 29 30 31 32 33 34 35 36 37 38 39 40 41 42 43 44 45 46 47 48 49\n",
      " 50 51 52 53 54 55 56 57 58 59 60 61 62]\n"
     ]
    }
   ],
   "source": [
    "#Used a numpy function to create a list of numbers\n",
    "nums=np.array(range(len(haw2)))\n",
    "print(nums)"
   ]
  },
  {
   "cell_type": "code",
   "execution_count": 9,
   "metadata": {
    "collapsed": false,
    "deletable": true,
    "editable": true,
    "scrolled": false
   },
   "outputs": [
    {
     "name": "stdout",
     "output_type": "stream",
     "text": [
      "    Month       Temp\n",
      "0       3  24.208095\n",
      "1       4  24.713923\n",
      "2       5  25.955723\n",
      "3       6  26.071530\n",
      "4       7  26.565826\n",
      "5       8  27.493848\n",
      "6       9  27.267683\n",
      "7      10  27.239300\n",
      "8      11  26.595093\n",
      "9      12  25.897929\n",
      "10      1  25.212139\n",
      "11      2  25.132214\n",
      "12      3  25.219961\n",
      "13      4  25.071833\n",
      "14      5  25.874652\n",
      "15      6  26.482933\n",
      "16      7  26.748187\n",
      "17      8  27.341971\n",
      "18      9  28.175470\n",
      "19     10  28.144268\n",
      "20     11  27.014167\n",
      "21     12  25.521265\n",
      "22      1  25.013552\n",
      "23      2  25.126936\n",
      "24      3  24.950532\n",
      "25      4  25.523737\n",
      "26      5  25.699274\n",
      "27      6  26.573937\n",
      "28      7  27.528861\n",
      "29      8  28.160600\n",
      "..    ...        ...\n",
      "33     12  26.065645\n",
      "34      1  25.451332\n",
      "35      2  25.032155\n",
      "36      3  25.214487\n",
      "37      4  25.547390\n",
      "38      5  25.847384\n",
      "39      6  26.552033\n",
      "40      7  27.042952\n",
      "41      8  27.514103\n",
      "42      9  27.697117\n",
      "43     10  27.410152\n",
      "44     11  26.537160\n",
      "45     12  25.562984\n",
      "46      1  25.049532\n",
      "47      2  24.693857\n",
      "48      3  25.223274\n",
      "49      4  25.581533\n",
      "50      5  26.115261\n",
      "51      6  26.723510\n",
      "52      7  27.210384\n",
      "53      8  27.294471\n",
      "54      9  27.947743\n",
      "55     10  27.478600\n",
      "56     11  26.901507\n",
      "57     12  25.342232\n",
      "58      1  24.835135\n",
      "59      2  24.668771\n",
      "60      3  24.532768\n",
      "61      4  25.436940\n",
      "62      5  25.546740\n",
      "\n",
      "[63 rows x 2 columns]\n"
     ]
    }
   ],
   "source": [
    "print(haw2)"
   ]
  },
  {
   "cell_type": "code",
   "execution_count": 16,
   "metadata": {
    "collapsed": true,
    "deletable": true,
    "editable": true
   },
   "outputs": [],
   "source": [
    "#Assigning our xticks to variables\n",
    "x=[-2,10,22,34,46,58]\n",
    "labels=['2013','2014','2015','2016','2017','2018']\n",
    "linestyle='dashed'"
   ]
  },
  {
   "cell_type": "code",
   "execution_count": 20,
   "metadata": {
    "collapsed": false,
    "deletable": true,
    "editable": true
   },
   "outputs": [
    {
     "data": {
      "image/png": "[encoded data removed]",
      "text/plain": [
       "<matplotlib.figure.Figure at 0x11e5604a8>"
      ]
     },
     "metadata": {},
     "output_type": "display_data"
    }
   ],
   "source": [
    "#Making our graph\n",
    "plt.plot(nums,temp, color=\"orange\", marker='s',ms=6)\n",
    "plt.title(\"Average Monthly Sea Surface Temperature in Hawaii\\nMarch 2013 to May 2018\")\n",
    "plt.ylabel(\"Sea Surface Temperature ($^\\circ$C)\")\n",
    "plt.xlabel(\"Year\")\n",
    "\n",
    "#This is to plot the vertical lines and label them\n",
    "plt.axvline(x=-2, color='gray',linestyle='dashed')\n",
    "plt.axvline(x=10, color='gray',linestyle=linestyle)\n",
    "plt.axvline(x=22,color='gray',linestyle=linestyle)\n",
    "plt.axvline(x=34,color='gray',linestyle=linestyle)\n",
    "plt.axvline(x=46,color='gray',linestyle=linestyle)\n",
    "plt.axvline(x=58,color='gray',linestyle=linestyle)\n",
    "plt.xticks(x, labels)\n",
    "\n",
    "#Then we saved our graph\n",
    "plt.savefig(\"Hawaii_SST_Month.png\",bbox_inches='tight')\n",
    "plt.show()"
   ]
  },
  {
   "cell_type": "code",
   "execution_count": null,
   "metadata": {
    "collapsed": true,
    "deletable": true,
    "editable": true
   },
   "outputs": [],
   "source": []
  },
  {
   "cell_type": "code",
   "execution_count": null,
   "metadata": {
    "collapsed": true,
    "deletable": true,
    "editable": true
   },
   "outputs": [],
   "source": []
  }
 ],
 "metadata": {
  "kernelspec": {
   "display_name": "Python 3",
   "language": "python",
   "name": "python3"
  },
  "language_info": {
   "codemirror_mode": {
    "name": "ipython",
    "version": 3
   },
   "file_extension": ".py",
   "mimetype": "text/x-python",
   "name": "python",
   "nbconvert_exporter": "python",
   "pygments_lexer": "ipython3",
   "version": "3.5.2"
  }
 },
 "nbformat": 4,
 "nbformat_minor": 2
}
