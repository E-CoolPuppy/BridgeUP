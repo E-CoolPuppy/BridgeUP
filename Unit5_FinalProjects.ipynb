{
 "cells": [
  {
   "cell_type": "markdown",
   "metadata": {
    "deletable": true,
    "editable": true
   },
   "source": [
    "# Final Projects: Calculating evolutionary distance\n",
    "\n",
    "In this notebook you will compare the amino acid sequence of hemoglobin alpha from 3 different species to find out which two are most closely related."
   ]
  },
  {
   "cell_type": "code",
   "execution_count": null,
   "metadata": {
    "collapsed": true,
    "deletable": true,
    "editable": true
   },
   "outputs": [],
   "source": []
  },
  {
   "cell_type": "markdown",
   "metadata": {
    "deletable": true,
    "editable": true
   },
   "source": [
    "You'll need to copy and paste the function from last class that finds the number of differences in two sequences:"
   ]
  },
  {
   "cell_type": "code",
   "execution_count": 1,
   "metadata": {
    "collapsed": true,
    "deletable": true,
    "editable": true
   },
   "outputs": [],
   "source": [
    "#Angelica's Way\n",
    "def differences_2_files (file1, file2):\n",
    "    same = []\n",
    "    different = []\n",
    "    for i in range (0, len(file1)):\n",
    "        if file1[i] == file2[i]:\n",
    "            same.append(file1[i] + file2[i])\n",
    "        else:\n",
    "            different.append([i])\n",
    "    return len(different)"
   ]
  },
  {
   "cell_type": "code",
   "execution_count": 14,
   "metadata": {
    "collapsed": true,
    "deletable": true,
    "editable": true
   },
   "outputs": [],
   "source": [
    "#Based off Angelica's Way\n",
    "def compareFunc2 (seq1,seq2):\n",
    "    same=[]\n",
    "    different=[]\n",
    "    for i in range(0,len(seq1)):\n",
    "        if seq1[i]==seq2[i]:\n",
    "            same.append(seq1[i])\n",
    "        else:\n",
    "            different.append([i])\n",
    "    return len(different)"
   ]
  },
  {
   "cell_type": "code",
   "execution_count": 15,
   "metadata": {
    "collapsed": true,
    "deletable": true,
    "editable": true
   },
   "outputs": [],
   "source": [
    "#Phincho's Way\n",
    "def compare(B1,B2):\n",
    "    same=[]\n",
    "    different=[]\n",
    "    for i in range(0,len(B1)):\n",
    "        if B1[i] == B2[i]:\n",
    "            same.append(B1[i])\n",
    "        else:\n",
    "            different.append([i])\n",
    "    return len(different)"
   ]
  },
  {
   "cell_type": "markdown",
   "metadata": {
    "deletable": true,
    "editable": true
   },
   "source": [
    "In order to compare the different amino acid sequences, we need to open the files and read the sequences into new variables:"
   ]
  },
  {
   "cell_type": "code",
   "execution_count": 16,
   "metadata": {
    "collapsed": true,
    "deletable": true,
    "editable": true
   },
   "outputs": [],
   "source": [
    "lizard = open(\"2_GreenAnole_CSNK2B_DNA.txt\").read()\n",
    "chicken = open(\"2_Chicken_CSNK2B_DNA.txt\").read()\n",
    "turtle = open(\"2_BoxTurtle_CSNK2B_DNA.txt\").read()"
   ]
  },
  {
   "cell_type": "code",
   "execution_count": 17,
   "metadata": {
    "collapsed": true,
    "deletable": true,
    "editable": true
   },
   "outputs": [],
   "source": [
    "chicken=open(\"2_Chicken_CSNK2B_DNA.txt\").read()\n",
    "turtle=open(\"2_BoxTurtle_CSNK2B_DNA.txt\").read()\n",
    "anole=open(\"2_GreenAnole_CSNK2B_DNA.txt\").read()"
   ]
  },
  {
   "cell_type": "markdown",
   "metadata": {
    "deletable": true,
    "editable": true
   },
   "source": [
    "Decide as a group whether you want to compare DNA or protein sequences for your species. What are the pros and cons of each?"
   ]
  },
  {
   "cell_type": "code",
   "execution_count": 18,
   "metadata": {
    "collapsed": false,
    "deletable": true,
    "editable": true
   },
   "outputs": [
    {
     "name": "stdout",
     "output_type": "stream",
     "text": [
      "702\n",
      "780\n",
      "780\n"
     ]
    }
   ],
   "source": [
    "# If you choose to use the transcribe and translate functions, you can copy and paste them here\n",
    "#We will compare the DNA sequences\n",
    "'''print(lizard)\n",
    "print(chicken)\n",
    "print(turtle)'''\n",
    "print(len(turtle))\n",
    "print(len(lizard))\n",
    "print(len(chicken))"
   ]
  },
  {
   "cell_type": "markdown",
   "metadata": {
    "deletable": true,
    "editable": true
   },
   "source": [
    "Now call the number of differences function 3 times to compare all three of your species' sequences."
   ]
  },
  {
   "cell_type": "code",
   "execution_count": 20,
   "metadata": {
    "collapsed": false,
    "deletable": true,
    "editable": true
   },
   "outputs": [
    {
     "name": "stdout",
     "output_type": "stream",
     "text": [
      "226\n",
      "134\n",
      "128\n"
     ]
    }
   ],
   "source": [
    "print(compareFunc2(lizard,chicken))\n",
    "print(compareFunc2(turtle,lizard))\n",
    "print(compareFunc2(turtle,chicken))"
   ]
  },
  {
   "cell_type": "code",
   "execution_count": 8,
   "metadata": {
    "collapsed": false,
    "deletable": true,
    "editable": true
   },
   "outputs": [
    {
     "name": "stdout",
     "output_type": "stream",
     "text": [
      "226\n",
      "128\n",
      "134\n"
     ]
    }
   ],
   "source": [
    "print(compare(chicken,anole))\n",
    "print(compare(turtle,chicken))\n",
    "print(compare(turtle,anole))"
   ]
  },
  {
   "cell_type": "markdown",
   "metadata": {
    "deletable": true,
    "editable": true
   },
   "source": [
    "What can you conclude based on the number of differences between each pair of species?\n",
    "\n",
    "Next, create a function that returns the percent difference between sequences and call it for your three comparisons:"
   ]
  },
  {
   "cell_type": "code",
   "execution_count": 9,
   "metadata": {
    "collapsed": true,
    "deletable": true,
    "editable": true
   },
   "outputs": [],
   "source": [
    "#The turtle and the chicken have the least amount of differences"
   ]
  },
  {
   "cell_type": "code",
   "execution_count": 10,
   "metadata": {
    "collapsed": false,
    "deletable": true,
    "editable": true
   },
   "outputs": [],
   "source": [
    "def percentFunc (seq1, seq2):\n",
    "    same=[]\n",
    "    different=[]\n",
    "    total=[]\n",
    "    for i in range(0,len(seq2)):\n",
    "        if seq1[i]==seq2[i]:\n",
    "            same.append(seq1[i])\n",
    "            total.append(i)\n",
    "        else:\n",
    "            different.append([i])\n",
    "            total.append([i])\n",
    "    part = len(different)\n",
    "    whole=len(total)\n",
    "    percent=(100*(float(part)/float(whole)))\n",
    "    return(float(percent))"
   ]
  },
  {
   "cell_type": "code",
   "execution_count": 11,
   "metadata": {
    "collapsed": false,
    "scrolled": true
   },
   "outputs": [],
   "source": [
    "dif_ct=percentFunc(chicken, turtle)\n",
    "dif_lt=percentFunc(lizard, turtle)\n",
    "dif_cl=percentFunc(chicken, lizard)"
   ]
  },
  {
   "cell_type": "markdown",
   "metadata": {
    "deletable": true,
    "editable": true
   },
   "source": [
    "Let's visualize these results! Choose a graph type that you think will communicate your conclusions effectively and create it using matplotlib:"
   ]
  },
  {
   "cell_type": "code",
   "execution_count": 13,
   "metadata": {
    "collapsed": false,
    "deletable": true,
    "editable": true
   },
   "outputs": [
    {
     "data": {
      "image/png": "[encoded data removed]",
      "text/plain": [
       "<matplotlib.figure.Figure at 0x11be215c0>"
      ]
     },
     "metadata": {},
     "output_type": "display_data"
    }
   ],
   "source": [
    "import matplotlib.pyplot as plt\n",
    "plt.bar (1, dif_ct)\n",
    "plt.bar(2, dif_lt)\n",
    "plt.bar(3,dif_cl)\n",
    "plt.title(\"Percent Difference Between 3 Species\")\n",
    "plt.ylabel(\"Percent Difference\")\n",
    "plt.xticks([1,2,3],(\"Chicken and Turtle\",\"Lizard and Turtle\",\"Chicken and Lizard\"))\n",
    "plt.savefig(\"Percent Differences.png\")\n",
    "plt.show()"
   ]
  },
  {
   "cell_type": "markdown",
   "metadata": {
    "deletable": true,
    "editable": true
   },
   "source": [
    "## Coding Challenge\n",
    "If you finish your project and want to try a challenge, come up with a hypothesis about which of the following species are most closely related to humans (carp, chicken, chimp, dog, eel, elephant, frog, gorilla, macaque monkey, mouse, orangutan, pig). Write out a ranked list with the species you think is most related to humans at the top.\n",
    "\n",
    "Then calculate the percent difference between the hemoglobin amino acid sequences of humans and each species to find out how close you came to the right ranking!"
   ]
  },
  {
   "cell_type": "code",
   "execution_count": null,
   "metadata": {
    "collapsed": true,
    "deletable": true,
    "editable": true
   },
   "outputs": [],
   "source": []
  },
  {
   "cell_type": "code",
   "execution_count": null,
   "metadata": {
    "collapsed": true
   },
   "outputs": [],
   "source": []
  }
 ],
 "metadata": {
  "kernelspec": {
   "display_name": "Python 3",
   "language": "python",
   "name": "python3"
  },
  "language_info": {
   "codemirror_mode": {
    "name": "ipython",
    "version": 3
   },
   "file_extension": ".py",
   "mimetype": "text/x-python",
   "name": "python",
   "nbconvert_exporter": "python",
   "pygments_lexer": "ipython3",
   "version": "3.5.2"
  }
 },
 "nbformat": 4,
 "nbformat_minor": 2
}
