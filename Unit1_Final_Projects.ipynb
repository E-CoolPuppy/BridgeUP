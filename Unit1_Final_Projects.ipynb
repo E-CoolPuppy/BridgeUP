{
 "cells": [
  {
   "cell_type": "markdown",
   "metadata": {
    "deletable": true,
    "editable": true
   },
   "source": [
    "# Analyzing your experimental data\n",
    "\n",
    "Use this Jupyter Notebook to analyze the data from your experiment"
   ]
  },
  {
   "cell_type": "markdown",
   "metadata": {
    "deletable": true,
    "editable": true
   },
   "source": [
    "Put your data into one or more list as relevant for your experiment (one sample, one list; two samples, two lists):"
   ]
  },
  {
   "cell_type": "code",
   "execution_count": 1,
   "metadata": {
    "collapsed": true,
    "deletable": true,
    "editable": true
   },
   "outputs": [],
   "source": [
    "time = [69, 61, 61.6, 60, 52.02, 53.9, 48.69, 65, 36.42, 56.62]\n",
    "#Time is the entire dataset\n",
    "white= [69,61]\n",
    "orange=[61.6,60]\n",
    "yellow=[52.02,53.9]\n",
    "pink=[48.69,65]\n",
    "green=[36.42,56.62]"
   ]
  },
  {
   "cell_type": "markdown",
   "metadata": {
    "deletable": true,
    "editable": true
   },
   "source": [
    "Consider how you can loops and/or conditionals to analyze your data. Use the cell below to do so if you think this would be helpful:"
   ]
  },
  {
   "cell_type": "code",
   "execution_count": null,
   "metadata": {
    "collapsed": true,
    "deletable": true,
    "editable": true
   },
   "outputs": [],
   "source": []
  },
  {
   "cell_type": "markdown",
   "metadata": {
    "deletable": true,
    "editable": true
   },
   "source": [
    "Now find the mean of your dataset(s). Hint: You will need to import numpy."
   ]
  },
  {
   "cell_type": "code",
   "execution_count": 9,
   "metadata": {
    "collapsed": false,
    "deletable": true,
    "editable": true
   },
   "outputs": [
    {
     "name": "stdout",
     "output_type": "stream",
     "text": [
      "65.0\n",
      "60.8\n",
      "52.96\n",
      "56.845\n",
      "46.52\n"
     ]
    }
   ],
   "source": [
    "import numpy as np\n",
    "#Separated by color\n",
    "print(np.mean(white))\n",
    "meanW=(np.mean(white))\n",
    "\n",
    "print(np.mean(orange))\n",
    "meanO=(np.mean(orange))\n",
    "\n",
    "print(np.mean(yellow))\n",
    "meanY=(np.mean(yellow))\n",
    "\n",
    "print(np.mean(pink))\n",
    "meanP=(np.mean(pink))\n",
    "\n",
    "print(np.mean(green))\n",
    "meanG=(np.mean(green))\n"
   ]
  },
  {
   "cell_type": "markdown",
   "metadata": {
    "deletable": true,
    "editable": true
   },
   "source": [
    "Next, find the standard deviation and variance using the np.std() and np.var() functions."
   ]
  },
  {
   "cell_type": "code",
   "execution_count": 3,
   "metadata": {
    "collapsed": false,
    "deletable": true,
    "editable": true
   },
   "outputs": [
    {
     "name": "stdout",
     "output_type": "stream",
     "text": [
      "4.0\n",
      "0.8\n",
      "0.94\n",
      "8.155\n",
      "10.1\n",
      "16.0\n",
      "0.64\n",
      "0.8836\n",
      "66.504025\n",
      "102.01\n"
     ]
    }
   ],
   "source": [
    "print(np.std(white))\n",
    "print(np.std(orange))\n",
    "print(np.std(yellow))\n",
    "print(np.std(pink))\n",
    "print(np.std(green))\n",
    "\n",
    "print(np.var(white))\n",
    "print(np.var(orange))\n",
    "print(np.var(yellow))\n",
    "print(np.var(pink))\n",
    "print(np.var(green))"
   ]
  },
  {
   "cell_type": "markdown",
   "metadata": {
    "deletable": true,
    "editable": true
   },
   "source": [
    "Now, find your t-value. Use the relevant code below:"
   ]
  },
  {
   "cell_type": "code",
   "execution_count": null,
   "metadata": {
    "collapsed": true,
    "deletable": true,
    "editable": true
   },
   "outputs": [],
   "source": [
    "#one sample t-test\n",
    "from scipy import stats\n",
    "print(stats.ttest_1samp(data_list, pop_mean))"
   ]
  },
  {
   "cell_type": "code",
   "execution_count": null,
   "metadata": {
    "collapsed": false,
    "deletable": true,
    "editable": true
   },
   "outputs": [],
   "source": [
    "#two sample t-test\n",
    "from scipy import stats\n",
    "print(stats.ttest_ind(data_list_1, data_list_2))"
   ]
  },
  {
   "cell_type": "code",
   "execution_count": 13,
   "metadata": {
    "collapsed": false
   },
   "outputs": [
    {
     "name": "stdout",
     "output_type": "stream",
     "text": [
      "F_onewayResult(statistic=1.3637221234145507, pvalue=0.36448690090747266)\n"
     ]
    }
   ],
   "source": [
    "#Anova test\n",
    "from scipy import stats\n",
    "#our experiment contains multiple variables and a t-test will not work for multiple variables\n",
    "print(stats.f_oneway(white,orange,yellow,green,pink))\n",
    "#P-Value says our results are random!"
   ]
  },
  {
   "cell_type": "markdown",
   "metadata": {
    "deletable": true,
    "editable": true
   },
   "source": [
    "Next, it's time to make a graph that visualizes your results. You can create a histogram for your datasets using matplotlib:"
   ]
  },
  {
   "cell_type": "code",
   "execution_count": null,
   "metadata": {
    "collapsed": true,
    "deletable": true,
    "editable": true
   },
   "outputs": [],
   "source": [
    "import matplotlib.pyplot as plt\n",
    "\n",
    "# Create a histogram\n",
    "plt.hist(data_list, 12, range = [1,2])\n",
    "\n",
    "# Add a title and axis labels\n",
    "plt.suptitle(\"Your Title\")\n",
    "plt.xlabel(\"x label\")\n",
    "plt.ylabel(\"y label\")\n",
    "\n",
    "# Show the graph\n",
    "plt.show()"
   ]
  },
  {
   "cell_type": "code",
   "execution_count": 12,
   "metadata": {
    "collapsed": false
   },
   "outputs": [
    {
     "data": {
      "image/png": "[encoded data removed]",
      "text/plain": [
       "<matplotlib.figure.Figure at 0x11be51748>"
      ]
     },
     "metadata": {},
     "output_type": "display_data"
    }
   ],
   "source": [
    "import matplotlib.pyplot as plt\n",
    "plt.bar(1, meanW)\n",
    "plt.bar(2, meanO)\n",
    "plt.bar(3, meanY)\n",
    "plt.bar(4, meanP)\n",
    "plt.bar(5, meanG)\n",
    "plt.xticks([1,2,3,4,5],(\"White\",\"Orange\",\"Yellow\",\"Pink\",\"Green\"))\n",
    "\n",
    "# Add a title and axis labels\n",
    "plt.suptitle(\"Effect of Color on How Fast a Person Works\")\n",
    "plt.xlabel(\"Color\")\n",
    "plt.ylabel(\"Time in Seconds\")\n",
    "\n",
    "# Show the graph\n",
    "plt.show()"
   ]
  },
  {
   "cell_type": "markdown",
   "metadata": {
    "deletable": true,
    "editable": true
   },
   "source": [
    "If you want to make another kind of graph, ask for help!"
   ]
  }
 ],
 "metadata": {
  "kernelspec": {
   "display_name": "Python 3",
   "language": "python",
   "name": "python3"
  },
  "language_info": {
   "codemirror_mode": {
    "name": "ipython",
    "version": 3
   },
   "file_extension": ".py",
   "mimetype": "text/x-python",
   "name": "python",
   "nbconvert_exporter": "python",
   "pygments_lexer": "ipython3",
   "version": "3.5.2"
  }
 },
 "nbformat": 4,
 "nbformat_minor": 2
}
